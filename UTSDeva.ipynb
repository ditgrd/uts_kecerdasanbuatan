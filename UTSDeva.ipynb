{
  "nbformat": 4,
  "nbformat_minor": 0,
  "metadata": {
    "colab": {
      "name": "Untitled0.ipynb",
      "provenance": [],
      "authorship_tag": "ABX9TyMeJC8Q2OUvFl+9j6tcR6rp",
      "include_colab_link": true
    },
    "kernelspec": {
      "name": "python3",
      "display_name": "Python 3"
    },
    "language_info": {
      "name": "python"
    }
  },
  "cells": [
    {
      "cell_type": "markdown",
      "metadata": {
        "id": "view-in-github",
        "colab_type": "text"
      },
      "source": [
        "<a href=\"https://colab.research.google.com/github/ditgrd/uts_kecerdasanbuatan/blob/main/UTSDeva.ipynb\" target=\"_parent\"><img src=\"https://colab.research.google.com/assets/colab-badge.svg\" alt=\"Open In Colab\"/></a>"
      ]
    },
    {
      "cell_type": "markdown",
      "source": [
        "**Tutorial Kondisi (if else)**\n",
        "\n",
        "Lengkapi fungsi dengan mengisi bagian yang hilang. Fungsi color_translator menerima nama warna, lalu mencetak nilai heksadesimalnya. Saat ini, hanya mendukung tiga warna primer aditif (merah, hijau, biru), sehingga mengembalikan \"tidak diketahui\" untuk semua warna lainnya."
      ],
      "metadata": {
        "id": "4w5gcnq1Yf66"
      }
    },
    {
      "cell_type": "code",
      "execution_count": 1,
      "metadata": {
        "colab": {
          "base_uri": "https://localhost:8080/"
        },
        "id": "FzZPdgGJP4t6",
        "outputId": "84a8b9ca-545a-4c3b-b7ff-b67be89d1a6f"
      },
      "outputs": [
        {
          "output_type": "stream",
          "name": "stdout",
          "text": [
            "Python 3.7.13\n"
          ]
        }
      ],
      "source": [
        "!python --version"
      ]
    },
    {
      "cell_type": "code",
      "source": [
        "def color_translator(color):\n",
        "\tif color == \"red\":\n",
        "\t\thex_color = \"#ff0000\"\n",
        "\telif color == \"green\":\n",
        "\t\thex_color = \"#00ff00\"\n",
        "\telif color == \"blue\":\n",
        "\t\thex_color = \"#0000ff\"\n",
        "\telse:\n",
        "\t\thex_color = \"unknown\"\n",
        "\treturn hex_color"
      ],
      "metadata": {
        "id": "_cKsUn1RQA8B"
      },
      "execution_count": 3,
      "outputs": []
    },
    {
      "cell_type": "code",
      "source": [
        "print(color_translator(\"blue\"))\n",
        "print(color_translator(\"yellow\"))\n",
        "print(color_translator(\"red\"))\n",
        "print(color_translator(\"black\"))\n",
        "print(color_translator(\"green\"))\n",
        "print(color_translator(\"\"))"
      ],
      "metadata": {
        "colab": {
          "base_uri": "https://localhost:8080/"
        },
        "id": "rnE80JeDQI_4",
        "outputId": "e3db3283-9c3b-4d72-85bf-aa0bbbb2cb1c"
      },
      "execution_count": 4,
      "outputs": [
        {
          "output_type": "stream",
          "name": "stdout",
          "text": [
            "#0000ff\n",
            "unknown\n",
            "#ff0000\n",
            "unknown\n",
            "#00ff00\n",
            "unknown\n"
          ]
        }
      ]
    }
  ]
}